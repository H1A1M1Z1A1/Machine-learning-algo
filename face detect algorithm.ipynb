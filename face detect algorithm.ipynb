{
 "cells": [
  {
   "cell_type": "code",
   "execution_count": null,
   "id": "a2bb77e7",
   "metadata": {},
   "outputs": [],
   "source": [
    "import cv2\n",
    "from mtcnn.mtcnn import MTCNN\n",
    "import os\n",
    "\n",
    "\n",
    "# pip install mtcnn \n",
    "\n",
    "dire=r\"x\"  # x=folder location which has the images \n",
    "\n",
    "dire1=r\"y\" #y= folder location where faces will be cropped and stored\n",
    "os.makedirs(dire1, exist_ok = True)\n",
    "\n",
    "detector = MTCNN()\n",
    "\n",
    "def face_detect(path,save):\n",
    "    image = cv2.imread(path,1)\n",
    "    result=detector.detect_faces(image)\n",
    "    if not result:\n",
    "        print(\"Their is no any face: \",path)\n",
    "    if result:\n",
    "        b=result[0]['box']\n",
    "        img1=image[b[1]-70:b[1]+b[3]+70,b[0]-70:b[0]+b[2]+70]\n",
    "        face = cv2.resize(img1, (300, 300))\n",
    "        cv2.imwrite(save,face)\n",
    "        return(img)\n",
    "        \n",
    "for img in os.listdir(dire):\n",
    "    try:\n",
    "        path=dire+'/'+img\n",
    "        save=dire1+\"/\"+img\n",
    "        img2=face_detect(path,save)\n",
    "    except Exception as e:\n",
    "        print(e)\n",
    "print(\"All is done.\")"
   ]
  }
 ],
 "metadata": {
  "kernelspec": {
   "display_name": "Python 3 (ipykernel)",
   "language": "python",
   "name": "python3"
  },
  "language_info": {
   "codemirror_mode": {
    "name": "ipython",
    "version": 3
   },
   "file_extension": ".py",
   "mimetype": "text/x-python",
   "name": "python",
   "nbconvert_exporter": "python",
   "pygments_lexer": "ipython3",
   "version": "3.10.4"
  }
 },
 "nbformat": 4,
 "nbformat_minor": 5
}
